{
 "cells": [
  {
   "cell_type": "code",
   "execution_count": 1,
   "metadata": {},
   "outputs": [],
   "source": [
    "# Importar bibliotecas\n",
    "import numpy as np\n",
    "import matplotlib.pyplot as plt\n",
    "\n",
    "# Setar a seed\n",
    "np.random.seed(6)"
   ]
  },
  {
   "cell_type": "code",
   "execution_count": 2,
   "metadata": {},
   "outputs": [],
   "source": [
    "# Ler o dataset\n",
    "X = np.loadtxt(\"iris.data\", delimiter=',', usecols=(0,1,2,3)) # Features\n",
    "y = np.loadtxt(\"iris.data\", delimiter=',', dtype=object, usecols=(4)) # Target\n",
    "\n",
    "# Rearranjar o dataset\n",
    "shuffler = np.random.permutation(len(X)) # Cria ordem aleatoria dos índices \n",
    "X, y = X[shuffler], y[shuffler]\n",
    "\n",
    "# Separar o dataset em treino, validação e teste (Split 4:1:1)\n",
    "X_train, X_val, X_test = X[:100,:], X[100:125,:], X[125:,:]\n",
    "X_train, X_val, X_test = (np.concatenate((X_train, np.ones((100,1))),axis=1), np.concatenate((X_val,np.ones((25,1))),axis=1), \n",
    "                          np.concatenate((X_test,np.ones((25,1))),axis=1)) # Concatena coluna de 1's para o elemento bias\n",
    "y_train, y_val, y_test = y[:100], y[100:125], y[125:150] "
   ]
  },
  {
   "cell_type": "markdown",
   "metadata": {},
   "source": [
    "b) Em IA os dados são comumente dividos em 3 conjuntos, assim como no código acima, afim de evitar vazamento de dados no processo de criação do modelo:\n",
    "\n",
    "**Treino** - Normalmente é o maior dos 3 conjuntos, pois é usado para treinar o modelo.\n",
    "\n",
    "**Validação** - Tem a função de avaliar a performance do modelo durante o treinamento para otimização dos hiperparâmetros.\n",
    "    \n",
    "**Teste** - Com o modelo já pronto usamos esse conjunto para testar sua capacidade de inferência em dados não previamente vistos."
   ]
  },
  {
   "cell_type": "code",
   "execution_count": 3,
   "metadata": {},
   "outputs": [],
   "source": [
    "# Implementação do perceptron\n",
    "class perceptron:\n",
    "    \"\"\" \n",
    "    Classe para criação de um modelo perceptron\n",
    "\n",
    "    ...\n",
    "\n",
    "    Atributos\n",
    "    ---------\n",
    "    w : np.array\n",
    "        Pesos usados no modelo\n",
    "    r : float\n",
    "        Taxa de aprendizado\n",
    "    hash : dict\n",
    "        Dicionário relacionando classes com valores numéricos\n",
    "    inv_hash : dict\n",
    "        Dicionário trocando as chaves e items de hash\n",
    "    success : np.array\n",
    "        Contagens dds números de erros em cada um dos conjuntos de dados treino, validação e teste para cada época\n",
    "\n",
    "    Métodos\n",
    "    -------\n",
    "    fit(X, y, error=False)\n",
    "        Treina o modelo de perceptron usando as features X e alvo y\n",
    "    predict(X)\n",
    "        Faz inferência nos dados X\n",
    "    \"\"\"\n",
    "    def __init__(self, w, r, hash):\n",
    "        \"\"\"\n",
    "        Parâmetros\n",
    "        ----------\n",
    "        w : np.array\n",
    "            Valores iniciais dos pesos do modelo\n",
    "        r : float\n",
    "            Taxa de aprendizado\n",
    "        hash : dict\n",
    "            Dicionário das classes relacionadas a valores inteiros\n",
    "        \"\"\"\n",
    "        self.w = w\n",
    "        self.r = r\n",
    "        self.hash = hash\n",
    "        self.inv_hash = {v: k for k, v in self.hash.items()}\n",
    "    def fit(self, X, y, N, tests=[]):\n",
    "        \"\"\"\n",
    "        Treina o modelo com features X e alvo y\n",
    "\n",
    "        Se error=True testa o modelo e salva o resultado a cada iteração\n",
    "\n",
    "        Parâmetros\n",
    "        ----------\n",
    "        X : np.array\n",
    "            Features a serem utilizadas no treinamento\n",
    "        y : np.array\n",
    "            Valores verdadeiros do alvo\n",
    "        N : int\n",
    "            Número de épocas\n",
    "        tests : lista de tuplas\n",
    "            Conjunto treino, validação e teste que devem ser usados para calcular performance\n",
    "        \"\"\"\n",
    "        self.success = []\n",
    "        # Itera pelo número de épocas\n",
    "        for n in range(N):\n",
    "            # Itera por cada vetor de features\n",
    "            for i in range(len(X)):\n",
    "                x = X[i]\n",
    "                pred = np.argmax(np.dot(x,self.w)) # Usa modelo atual para prever a classe\n",
    "                true = self.hash[y[i]]\n",
    "                if pred != true: # Testa se a previsão não foi correta\n",
    "                    self.w[:,true] += self.r*x # Soma nos pesos da classe correta\n",
    "                    self.w[:,pred] -= self.r*x # Subtrai nos pesos da classe incorreta\n",
    "            if len(tests) > 0:\n",
    "                self.success.append([np.sum(self.predict(tests[0][0])!=tests[0][1]),\n",
    "                                     np.sum(self.predict(tests[1][0])!=tests[1][1]),\n",
    "                                     np.sum(self.predict(tests[2][0])!=tests[2][1])])\n",
    "        self.success = np.array(self.success)\n",
    "    def predict(self, X):\n",
    "        \"\"\"\n",
    "        Realiza inferência para os dados X\n",
    "\n",
    "        Parâmetros\n",
    "        ----------\n",
    "        X : np.array\n",
    "            Dados a serem usados na inferência\n",
    "        \"\"\"\n",
    "        preds = np.argmax(np.dot(X,self.w),axis=1) # Realiza a inferência, resultando em valores númericos\n",
    "        return np.vectorize(self.inv_hash.get)(preds) # Transforma as previsões para os nomes das classes\n",
    "        "
   ]
  },
  {
   "cell_type": "code",
   "execution_count": 4,
   "metadata": {},
   "outputs": [
    {
     "name": "stdout",
     "output_type": "stream",
     "text": [
      "Melhor valor para a taxa de aprendizado (r):\n",
      "1\n"
     ]
    }
   ],
   "source": [
    "# Inicialização de parâmetros\n",
    "hash = {'Iris-setosa':0,'Iris-versicolor':1,'Iris-virginica':2}\n",
    "w = np.random.rand(15).reshape((5,3))\n",
    "N = 10\n",
    "\n",
    "# Busca pela taxa de aprendizado ideal\n",
    "perf = [] # Lista de performances\n",
    "rs = [0.001,0.005,0.01,0.05,0.1,0.5,1] # Possíveis valores para r\n",
    "for r in rs:\n",
    "    perc = perceptron(w, r, hash) # Inicializa modelo\n",
    "    perc.fit(X_train, y_train, N) # Treina o modelo\n",
    "    perf.append(np.sum(perc.predict(X_val)!=y_val)/len(X_val)) # Adiciona a performance a lista\n",
    "print(\"Melhor valor para a taxa de aprendizado (r):\")\n",
    "print(rs[np.argmin(perf)])"
   ]
  },
  {
   "cell_type": "code",
   "execution_count": 5,
   "metadata": {},
   "outputs": [
    {
     "name": "stdout",
     "output_type": "stream",
     "text": [
      "['Iris-virginica' 'Iris-versicolor' 'Iris-virginica' 'Iris-virginica'\n",
      " 'Iris-virginica' 'Iris-versicolor' 'Iris-setosa' 'Iris-virginica'\n",
      " 'Iris-setosa' 'Iris-virginica' 'Iris-setosa' 'Iris-versicolor'\n",
      " 'Iris-virginica' 'Iris-setosa' 'Iris-versicolor' 'Iris-versicolor'\n",
      " 'Iris-setosa' 'Iris-setosa' 'Iris-versicolor' 'Iris-versicolor'\n",
      " 'Iris-virginica' 'Iris-versicolor' 'Iris-virginica' 'Iris-virginica'\n",
      " 'Iris-virginica']\n"
     ]
    }
   ],
   "source": [
    "r=1\n",
    "modelo = perceptron(w, r, hash)\n",
    "modelo.fit(X_train,y_train, N,tests=[(X_train,y_train),(X_val,y_val),(X_test,y_test)]) # Treina testando e armazenando a performance por época\n",
    "test_preds = modelo.predict(X_test)\n",
    "print(test_preds)"
   ]
  },
  {
   "cell_type": "markdown",
   "metadata": {},
   "source": [
    "a) A saída do último bloco de código representa uma rodada de inferência com os dados de teste."
   ]
  },
  {
   "cell_type": "code",
   "execution_count": 6,
   "metadata": {},
   "outputs": [
    {
     "name": "stdout",
     "output_type": "stream",
     "text": [
      "Taxa de acerto nos dados de treino:\n",
      "0.97\n",
      "Taxa de acerto nos dados de teste:\n",
      "1.0\n",
      "Diferença das taxas de acerto:\n",
      "0.030000000000000027\n"
     ]
    }
   ],
   "source": [
    "train_preds = modelo.predict(X_train)\n",
    "print(\"Taxa de acerto nos dados de treino:\")\n",
    "print(np.sum(train_preds==y_train)/100)\n",
    "print(\"Taxa de acerto nos dados de teste:\")\n",
    "print(np.sum(test_preds==y_test)/25)\n",
    "print(\"Diferença das taxas de acerto:\")\n",
    "print(abs(np.sum(train_preds==y_train)/100 - np.sum(test_preds==y_test)/25))"
   ]
  },
  {
   "cell_type": "markdown",
   "metadata": {},
   "source": [
    "c) Overfitting é o termo usado para descrever quando um modelo se ajusta exageradamente aos dados de treino, de forma que sua capacidade de generalizar para outros dados é severamente prejudicada.\n",
    "\n",
    "O modelo aqui desenvolvido não está sofrendo de overfitting, uma boa indicação disso é que como visto acima a performance nos dados de teste chega a superar a dos dados de treino."
   ]
  },
  {
   "cell_type": "code",
   "execution_count": 7,
   "metadata": {},
   "outputs": [
    {
     "data": {
      "image/png": "[encoded data removed]",
      "text/plain": [
       "<Figure size 720x360 with 1 Axes>"
      ]
     },
     "metadata": {
      "needs_background": "light"
     },
     "output_type": "display_data"
    }
   ],
   "source": [
    "plt.figure(figsize=(10,5))\n",
    "\n",
    "plot_data = modelo.success\n",
    "\n",
    "plt.plot(np.arange(10), plot_data[:,0], color='r', label='treino')\n",
    "plt.plot(np.arange(10), plot_data[:,1], color='b', label='validação')\n",
    "plt.plot(np.arange(10), plot_data[:,2], color='g', label='teste')\n",
    "\n",
    "plt.xlabel(\"Época\")\n",
    "plt.ylabel(\"Classificações erradas\")\n",
    "plt.title(\"Classificações erradas x Épocas\")\n",
    "\n",
    "plt.legend()\n",
    "\n",
    "plt.grid()\n",
    "\n",
    "plt.show()"
   ]
  },
  {
   "cell_type": "markdown",
   "metadata": {},
   "source": [
    "d) O gráfico acima mostra a quantidade de classificações erradas por época para cada um dos 3 conjuntos de dados.\n",
    "\n",
    "Como as 3 classes estão igualmente distribuidas nos dados a acurácia é uma boa métrica para análise da performance (no gráfico temos 1-acurácia), pórem para maiores análises também poderiamos fazer a matriz de confusão e com ela calcular outras métricas como precisão e F1-score."
   ]
  },
  {
   "cell_type": "markdown",
   "metadata": {},
   "source": [
    "e) Devido ao modelo utilizar apenas de um único perceptron, ele só é capaz de aprender padrões lineares para separar as classes o que nesse caso de mostrou satisfatório. Se aumentarmos o número de perceptrons em nosso modelo isso lhe daria a capacidade de aprender padrões mais complicados, isso se dá devido a possibilidade de relacionarmos os vários perceptrons por portas lógicas."
   ]
  }
 ],
 "metadata": {
  "kernelspec": {
   "display_name": "base",
   "language": "python",
   "name": "python3"
  },
  "language_info": {
   "codemirror_mode": {
    "name": "ipython",
    "version": 3
   },
   "file_extension": ".py",
   "mimetype": "text/x-python",
   "name": "python",
   "nbconvert_exporter": "python",
   "pygments_lexer": "ipython3",
   "version": "3.7.6"
  },
  "orig_nbformat": 4
 },
 "nbformat": 4,
 "nbformat_minor": 2
}
